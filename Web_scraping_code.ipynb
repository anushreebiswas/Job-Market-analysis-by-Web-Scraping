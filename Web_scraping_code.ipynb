{
 "cells": [
  {
   "cell_type": "code",
   "execution_count": 2,
   "id": "initial_id",
   "metadata": {
    "ExecuteTime": {
     "end_time": "2023-11-29T10:25:47.899541Z",
     "start_time": "2023-11-29T10:25:45.057970Z"
    }
   },
   "outputs": [],
   "source": [
    "import requests\n",
    "import pandas as pd\n",
    "from bs4 import BeautifulSoup\n",
    "\n",
    "BASE_URL = 'https://www.ambitionbox.com/jobs/search?designation=data-scientist'\n",
    "HEADERS = {'User-Agent': \"Mozilla/5.0 (Windows NT 6.3; Win64; x64) AppleWebKit/537.36 (KHTML, like Gecko) Chrome/92.0.4515.131 Safari/537.36\"}\n",
    "\n",
    "job_titles = []\n",
    "job_companies = []\n",
    "job_locations =[]\n",
    "job_experience = []\n",
    "job_salary = []\n",
    "job_skills = []\n",
    "\n",
    "def get_soup(url):\n",
    "    try:\n",
    "        response = requests.get(url, headers=HEADERS)\n",
    "        if response.status_code == 200:\n",
    "            soup = BeautifulSoup(response.text, 'html.parser')\n",
    "            return soup\n",
    "        else:\n",
    "            print(f\"Error: {response.status_code}\")\n",
    "    except Exception as e:\n",
    "        print(f\"An error occurred: {e}\")   \n",
    "\n",
    "def get_job_details(soup):\n",
    "    job_info_cards = soup.find_all('div', class_='jobsInfoCardCont')\n",
    "    for job_info in job_info_cards:\n",
    "        job_title = job_info.find('h2').text.strip()\n",
    "        job_company = job_info.find('p', class_='company').text.strip()\n",
    "        \n",
    "        job_basic_info = job_info.find('div', class_='job-basic-info')\n",
    "        job_details = job_basic_info.find_all('div', class_='entity')\n",
    "        \n",
    "        if len(job_details) == 4:\n",
    "            loc_list = job_details[2]['title'].split(',')\n",
    "            for loc in loc_list:\n",
    "                add_job_details(job_title, job_company, job_details[0]['title'], job_details[1]['title'], loc.strip(), job_details[3]['title'])            \n",
    "        elif len(job_details) == 3:\n",
    "            loc_list = job_details[1]['title'].split(',')\n",
    "            for loc in loc_list:\n",
    "                add_job_details(job_title, job_company, job_details[0]['title'], 'Not Available', loc.strip(), job_details[2]['title'])\n",
    "        elif len(job_details) == 2:\n",
    "            loc_list = job_details[0]['title'].split(',')\n",
    "            for loc in loc_list:\n",
    "                add_job_details(job_title, job_company, 'Not Available', 'Not Available', loc.strip(), job_details[1]['title'])\n",
    "\n",
    "\n",
    "def add_job_details(title, company, exp, sal, loc, skl):\n",
    "    job_titles.append(title)\n",
    "    job_companies.append(company)\n",
    "    job_experience.append(exp)\n",
    "    job_salary.append(sal)\n",
    "    job_locations.append(loc)\n",
    "    job_skills.append(skl)\n",
    "\n",
    "for page in range(1, 11):\n",
    "    req_url = f'{BASE_URL}&page={page}'\n",
    "    soup = get_soup(req_url)\n",
    "    get_job_details(soup)\n",
    "    \n",
    "df = pd.DataFrame({'Title': job_titles, 'Company': job_companies, 'Experience': job_experience, 'Salary': job_salary, 'Location': job_locations, 'Skills': job_skills})\n",
    "df.to_csv('jobs.csv', index=False)\n"
   ]
  },
  {
   "cell_type": "code",
   "execution_count": 5,
   "id": "6c4269b8c229503e",
   "metadata": {
    "ExecuteTime": {
     "end_time": "2023-11-28T13:20:19.189099Z",
     "start_time": "2023-11-28T13:20:19.168321Z"
    }
   },
   "outputs": [],
   "source": []
  }
 ],
 "metadata": {
  "kernelspec": {
   "display_name": "Python 3 (ipykernel)",
   "language": "python",
   "name": "python3"
  },
  "language_info": {
   "codemirror_mode": {
    "name": "ipython",
    "version": 3
   },
   "file_extension": ".py",
   "mimetype": "text/x-python",
   "name": "python",
   "nbconvert_exporter": "python",
   "pygments_lexer": "ipython3",
   "version": "3.10.9"
  }
 },
 "nbformat": 4,
 "nbformat_minor": 5
}
